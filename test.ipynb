{
 "cells": [
  {
   "cell_type": "code",
   "execution_count": 1,
   "metadata": {},
   "outputs": [],
   "source": [
    "import torch\n",
    "from utils.dataset import TestDataset, IoUTester, MaskSet\n",
    "from utils import visualization"
   ]
  },
  {
   "cell_type": "code",
   "execution_count": 2,
   "metadata": {},
   "outputs": [],
   "source": [
    "model = torch.load(f'./weights/Synthetic+Manual.pt_18.pth')"
   ]
  },
  {
   "cell_type": "code",
   "execution_count": 3,
   "metadata": {},
   "outputs": [],
   "source": [
    "image_set = TestDataset('./datasets/test_dataset/raw/')"
   ]
  },
  {
   "cell_type": "code",
   "execution_count": 4,
   "metadata": {},
   "outputs": [
    {
     "name": "stdout",
     "output_type": "stream",
     "text": [
      "torch.Size([16, 3, 320, 480])\n"
     ]
    }
   ],
   "source": [
    "model.eval()\n",
    "input_batch = torch.stack([image for image in image_set]).to('cuda')\n",
    "print(input_batch.shape)\n",
    "output = model(input_batch)"
   ]
  },
  {
   "cell_type": "code",
   "execution_count": 5,
   "metadata": {},
   "outputs": [],
   "source": [
    "gt_set = MaskSet('./datasets/test_dataset/mask_human/', 'cuda')\n",
    "sam_set = MaskSet('./datasets/test_dataset/mask_sam', 'cuda')"
   ]
  },
  {
   "cell_type": "code",
   "execution_count": 6,
   "metadata": {},
   "outputs": [],
   "source": [
    "iou_tester = IoUTester(0.5)"
   ]
  },
  {
   "cell_type": "code",
   "execution_count": 7,
   "metadata": {},
   "outputs": [],
   "source": [
    "# visualization.show_masked(images=input_batch, masks=output, shape=(4, 4), titles=image_set.names)"
   ]
  },
  {
   "cell_type": "code",
   "execution_count": 8,
   "metadata": {},
   "outputs": [],
   "source": [
    "# visualization.show_masked(images=input_batch, masks=gt_set, shape=(4, 4), titles=image_set.names)"
   ]
  },
  {
   "cell_type": "code",
   "execution_count": 9,
   "metadata": {},
   "outputs": [
    {
     "name": "stdout",
     "output_type": "stream",
     "text": [
      "prediction:\n",
      "iou: [0.707211   0.7874847  0.78591114 0.76041955 0.61604154 0.73775035\n",
      " 0.6995096  0.445581   0.8351077  0.88540083 0.6855405  0.67158884\n",
      " 0.50072503 0.5760175  0.46911755 0.6638614 ]\n",
      "mean iou: 0.6767043\n",
      "\n",
      "sam:\n",
      "iou: [0.6954023  0.84082115 0.72700566 0.72759515 0.5160305  0.669531\n",
      " 0.6186489  0.7418737  0.80208045 0.91154087 0.48481163 0.6408207\n",
      " 0.43788955 0.4652652  0.45579508 0.47614115]\n",
      "mean iou: 0.6382033\n",
      "\n"
     ]
    }
   ],
   "source": [
    "pr_iou = iou_tester.test(output, gt_set)\n",
    "print(\"prediction:\")\n",
    "print('iou:', pr_iou)\n",
    "print('mean iou:', pr_iou.mean())\n",
    "print()\n",
    "\n",
    "sam_iou = iou_tester.test(sam_set, gt_set)\n",
    "print(\"sam:\")\n",
    "print('iou:', sam_iou)\n",
    "print('mean iou:', sam_iou.mean())\n",
    "print()"
   ]
  },
  {
   "cell_type": "code",
   "execution_count": null,
   "metadata": {},
   "outputs": [],
   "source": []
  }
 ],
 "metadata": {
  "kernelspec": {
   "display_name": "leaf_seg",
   "language": "python",
   "name": "python3"
  },
  "language_info": {
   "codemirror_mode": {
    "name": "ipython",
    "version": 3
   },
   "file_extension": ".py",
   "mimetype": "text/x-python",
   "name": "python",
   "nbconvert_exporter": "python",
   "pygments_lexer": "ipython3",
   "version": "3.11.6"
  }
 },
 "nbformat": 4,
 "nbformat_minor": 2
}
